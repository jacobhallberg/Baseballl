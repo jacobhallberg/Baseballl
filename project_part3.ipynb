{
 "cells": [
  {
   "cell_type": "markdown",
   "metadata": {},
   "source": [
    "## Specialty Score Project Part 3 ##\n",
    "### CSCI 4831 Sabermetrics ###\n",
    "### Jacob Hallberg and Lindsay Walton ###\n",
    "\n",
    "In sabermetrics, there are a variety of statistics used to evaluate the skill of a batter. Statistics such as batting average, slugging, on-base percentage, strikeouts, and other similar statistics evaluate the overall skill of a batter. None of these statistics consider a batter’s ability to hit varying types of pitches, just the batter’s ability to hit pitches as a whole. Some pitchers may be able to effectively hit all types of pitches, while others may only be able to be effective pitchers for fastballs. The Speciality Score statistic aims to gauge a batter’s ability to hit “speciality” pitches such as curveballs, sliders, changeups, and so on. Batters with high batting skill for these speciality pitches will have a high speciality score while batter with less skill for these pitches will have a lower speciality score. This statistic could be used to identify batters with a unique batting skill as compared to other batters. \n",
    "\n",
    "The statistic will be calculated using the Statcast data. For each batter, we will collect information about the pitches that they’ve hit. To determine information about the pitch, we will collect pitch type and pitch speed. To determine information about the batter’s hitting and how successful that hit was, we will collect batted ball launch speed, the resulting event of the plate appearance and launch speed/angle zone based on launch angle and exit velocity (which categorizes hits into one of the following types: weak, topped, under, flare/burner, solid contact, or barrel). We may also consider using the statcast data points Estimated Batting Avg based on launch angle and exit velocity, and Estimated wOBA based on launch angle and exit velocity.\n",
    "\n",
    "We will group the batter’s hits by pitch type. For each pitch type, we will use the batting information described above to determine how effective the hit was. This information will be aggregated together by pitch type and summed to give the player’s specialty score. Each pitch type will be weighted by some value such that pitches like curveballs, changeups, and sliders will be valued more than fastballs. \n",
    "\n",
    "The statistic will be presented with a website. A user will be able to access the website and read some information about the statistic and how it is calculated. A user will be able to enter a Major League Baseball player’s name and see his Specialty Score. The Specialty Scores will be available for all players that have enough Statcast data for which we can calculate their score.\n",
    "\n",
    "\n"
   ]
  }
 ],
 "metadata": {
  "kernelspec": {
   "display_name": "Python 3",
   "language": "python",
   "name": "python3"
  },
  "language_info": {
   "codemirror_mode": {
    "name": "ipython",
    "version": 3
   },
   "file_extension": ".py",
   "mimetype": "text/x-python",
   "name": "python",
   "nbconvert_exporter": "python",
   "pygments_lexer": "ipython3",
   "version": "3.6.7"
  }
 },
 "nbformat": 4,
 "nbformat_minor": 2
}
